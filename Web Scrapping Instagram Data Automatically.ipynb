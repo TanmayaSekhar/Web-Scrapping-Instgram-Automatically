{
 "cells": [
  {
   "cell_type": "markdown",
   "metadata": {},
   "source": [
    "# Python Project - Web Scrapping Data from Instagram Automatically with Selenium Library & View Someones Profile"
   ]
  },
  {
   "cell_type": "markdown",
   "metadata": {},
   "source": [
    "## Author - Tanmaya Sekhar Swain "
   ]
  },
  {
   "cell_type": "markdown",
   "metadata": {},
   "source": [
    "## Selenium Library - The selenium package is used to automate web browser interaction from Python.\n",
    "\n",
    "##### Selenium is an open-source tool that automates web browsers. It provides a single interface that lets you write test scripts in programming languages like Ruby, Java, NodeJS, PHP, Perl, Python, and C#, among others."
   ]
  },
  {
   "cell_type": "markdown",
   "metadata": {},
   "source": [
    "## Why learn Selenium Python ?\n",
    "- **Open Source and Portable** – Selenium is an open source and portable Web testing Framework.\n",
    "- **Combination of tool and DSL** – Selenium is combination of tools and DSL (Domain Specific Language) in order to carry out various types of tests.\n",
    "- **Easier to understand and implement** – Selenium commands are categorized in terms of different classes which make it easier to understand and implement.\n",
    "- **Less burden and stress for testers** – As mentioned above, the amount of time required to do testing repeated test scenarios on each and every new build is reduced to zero, almost. Hence, the burden of tester gets reduced.\n",
    "- **Cost reduction for the Business Clients** – The Business needs to pay the testers their salary, which is saved using automation testing tool. The automation not only saves time but gets cost benefits too, to the business."
   ]
  },
  {
   "cell_type": "markdown",
   "metadata": {},
   "source": [
    "# Objective Of the Project - AUTOMATIC IMAGE EXTRACTION"
   ]
  },
  {
   "cell_type": "markdown",
   "metadata": {},
   "source": [
    "**For this webscrapping you need to download webdriver for the browser you want use to open instagram**"
   ]
  },
  {
   "cell_type": "markdown",
   "metadata": {},
   "source": [
    "## Download ChromeDriver\n",
    "### As I am using Chrome broswer, so I download ChromeDriver as selenium driver\n",
    "\n",
    "Now we need to download latest stable release of ChromeDriver from:\n",
    "https://chromedriver.chromium.org/"
   ]
  },
  {
   "cell_type": "markdown",
   "metadata": {},
   "source": [
    "## Importing Important Libraries"
   ]
  },
  {
   "cell_type": "code",
   "execution_count": 1,
   "metadata": {},
   "outputs": [],
   "source": [
    "# install selenium library\n",
    "# !pip install selenium \n",
    "# connect the webdriver to the notebook\n",
    "from selenium import webdriver \n",
    "from selenium.webdriver.common.keys import Keys \n",
    "from selenium.webdriver.support import expected_conditions as EC\n",
    "from selenium.webdriver.common.by import By\n",
    "from selenium.webdriver.support.wait import WebDriverWait\n",
    "import time # Time execution of a Python statement or expression."
   ]
  },
  {
   "cell_type": "markdown",
   "metadata": {},
   "source": [
    "## Open Instagram Page & Login to Your Instagram Account"
   ]
  },
  {
   "cell_type": "markdown",
   "metadata": {},
   "source": [
    "### Open Instagram Page on Webdriver"
   ]
  },
  {
   "cell_type": "code",
   "execution_count": 2,
   "metadata": {},
   "outputs": [],
   "source": [
    "#specify the path to chromedriver.exe (download and save on your computer)\n",
    "driver = webdriver.Chrome('D:/Study/Projects/Instagram/chromedriver.exe')\n",
    "\n",
    "#open the webpage\n",
    "driver.get(\"http://www.instagram.com\")"
   ]
  },
  {
   "cell_type": "markdown",
   "metadata": {},
   "source": [
    "### Login to Instagram Account"
   ]
  },
  {
   "cell_type": "markdown",
   "metadata": {},
   "source": [
    "#### Here we use CSS_SELECTOR\n",
    "* The CSS Selector combines an element selector and a selector value that can identify particular elements on a web page. Like XPath, CSS selector can be used to locate web elements without ID, class, or Name."
   ]
  },
  {
   "cell_type": "code",
   "execution_count": 3,
   "metadata": {},
   "outputs": [],
   "source": [
    "#target username\n",
    "username = WebDriverWait(driver, 10).until(EC.element_to_be_clickable((By.CSS_SELECTOR, \"input[name='username']\")))\n",
    "password = WebDriverWait(driver, 10).until(EC.element_to_be_clickable((By.CSS_SELECTOR, \"input[name='password']\")))\n",
    "\n",
    "#enter username and password\n",
    "username.clear()\n",
    "username.send_keys(\"my_username\") #in my_username place need to give your username\n",
    "password.clear()\n",
    "password.send_keys(\"my_password\") #in my_password place need to give your password\n",
    "\n",
    "#target the login button and click it\n",
    "login = WebDriverWait(driver, 10).until(EC.element_to_be_clickable((By.CSS_SELECTOR, \"button[type='submit']\"))).click()\n"
   ]
  },
  {
   "cell_type": "markdown",
   "metadata": {},
   "source": [
    "# Boom! We are loged in..."
   ]
  },
  {
   "cell_type": "markdown",
   "metadata": {},
   "source": [
    "### Handle Alerts\n",
    "* You might only get a single alert, or you might get 2 of them, please adjust the two cells below accordingly"
   ]
  },
  {
   "cell_type": "code",
   "execution_count": 4,
   "metadata": {},
   "outputs": [],
   "source": [
    "time.sleep(5) # Wait for 5 seconds\n",
    "# Now we will get a pop on about \"save your login info?\" You need to choose the button as per your requirement\n",
    "# If we want to click \"Not Now\" option\n",
    "\n",
    "#target the Not Now button and click it\n",
    "notnow = WebDriverWait(driver, 10).until(EC.element_to_be_clickable((By.XPATH,\"//button[contains(text(), 'Not Now')]\"))).click()\n",
    "\n",
    "# If we want to click \"Save Info\" option\n",
    "\n",
    "#target the Save Info button and click it\n",
    "#saveinfo = WebDriverWait(driver, 10).until(EC.element_to_be_clickable((By.XPATH,\"//button[contains(text(), 'Save Info')]\"))).click()\n"
   ]
  },
  {
   "cell_type": "code",
   "execution_count": 5,
   "metadata": {},
   "outputs": [],
   "source": [
    "time.sleep(5) # Wait for 5 seconds\n",
    "# Now we will get a pop on about \"Turn on Notifications?\" You need to choose the button as per your requirement\n",
    "# If we want to click \"Not Now\" option\n",
    "\n",
    "#target the Not Now button and click it\n",
    "notnow1 = WebDriverWait(driver, 10).until(EC.element_to_be_clickable((By.XPATH,\"//button[contains(text(), 'Not Now')]\"))).click()\n",
    "\n",
    "# If we want to click \"Turn On\" option\n",
    "\n",
    "#target the Turn On button and click it\n",
    "#turnon = WebDriverWait(driver, 10).until(EC.element_to_be_clickable((By.XPATH,\"//button[contains(text(), 'Turn On')]\"))).click()\n"
   ]
  },
  {
   "cell_type": "markdown",
   "metadata": {},
   "source": [
    "### Cool!! Now we are on the feed page of instagram User Interface"
   ]
  },
  {
   "cell_type": "markdown",
   "metadata": {},
   "source": [
    "## Click on the serach box to search for hastag"
   ]
  },
  {
   "cell_type": "code",
   "execution_count": 6,
   "metadata": {},
   "outputs": [],
   "source": [
    "#target the search input field\n",
    "searchbox = WebDriverWait(driver, 10).until(EC.element_to_be_clickable((By.XPATH, \"//input[@placeholder='Search']\")))\n",
    "searchbox.clear()\n",
    "\n",
    "#search for the hashtag \"photography\"\n",
    "keyword = \"#photography\"\n",
    "searchbox.send_keys(keyword)"
   ]
  },
  {
   "cell_type": "code",
   "execution_count": 7,
   "metadata": {},
   "outputs": [],
   "source": [
    "# Target on the fisrt pop on i.e. on #photography & click it\n",
    "time.sleep(5) # Wait for 5 seconds\n",
    "my_link = WebDriverWait(driver, 10).until(EC.element_to_be_clickable((By.XPATH, \"//a[contains(@href, '/\" + keyword[1:] + \"/')]\")))\n",
    "my_link.click()"
   ]
  },
  {
   "cell_type": "markdown",
   "metadata": {},
   "source": [
    "### Hurray!!! We are into the searched hastag"
   ]
  },
  {
   "cell_type": "code",
   "execution_count": 8,
   "metadata": {},
   "outputs": [],
   "source": [
    "# Now if you want to follow that hastag \n",
    "time.sleep(5) # Wait for 5 seconds\n",
    "follow = WebDriverWait(driver, 10).until(EC.element_to_be_clickable((By.XPATH,\"//button[contains(text(), 'Follow')]\"))).click()"
   ]
  },
  {
   "cell_type": "markdown",
   "metadata": {},
   "source": [
    "**Now we followed that hastag**"
   ]
  },
  {
   "cell_type": "markdown",
   "metadata": {},
   "source": [
    "## Scroll Down\n",
    "\n",
    "- Increase n_scrolls to select more photos (photos on each scroll depends on screen resolution)"
   ]
  },
  {
   "cell_type": "code",
   "execution_count": 9,
   "metadata": {},
   "outputs": [],
   "source": [
    "#scroll down 3 times\n",
    "#You can increase the range to scroll more\n",
    "time.sleep(5) # Wait for 5 seconds\n",
    "n_scrolls = 3\n",
    "for j in range(0, n_scrolls):\n",
    "    driver.execute_script(\"window.scrollTo(0, document.body.scrollHeight);\")\n",
    "    time.sleep(5)"
   ]
  },
  {
   "cell_type": "code",
   "execution_count": 10,
   "metadata": {},
   "outputs": [
    {
     "name": "stdout",
     "output_type": "stream",
     "text": [
      "Found 51 links to images\n"
     ]
    },
    {
     "data": {
      "text/plain": [
       "['https://www.instagram.com/p/CMkeTBoA7-6/',\n",
       " 'https://www.instagram.com/p/CMkfOOSKtsX/',\n",
       " 'https://www.instagram.com/p/CMkdSlWgKYm/',\n",
       " 'https://www.instagram.com/p/CMkhOrIBlFg/',\n",
       " 'https://www.instagram.com/p/CMkf1OiMY_D/']"
      ]
     },
     "execution_count": 10,
     "metadata": {},
     "output_type": "execute_result"
    }
   ],
   "source": [
    "#target all the link elements on the page\n",
    "anchors = driver.find_elements_by_tag_name('a')\n",
    "anchors = [a.get_attribute('href') for a in anchors]\n",
    "#narrow down all links to image links only\n",
    "anchors = [a for a in anchors if str(a).startswith(\"https://www.instagram.com/p/\")]\n",
    "\n",
    "print('Found ' + str(len(anchors)) + ' links to images')\n",
    "anchors[:5]"
   ]
  },
  {
   "cell_type": "code",
   "execution_count": 11,
   "metadata": {},
   "outputs": [
    {
     "data": {
      "text/plain": [
       "['https://instagram.fblr6-1.fna.fbcdn.net/v/t51.2885-15/e35/p1080x1080/162108594_4396089807071385_7197034857243094626_n.jpg?tp=1&_nc_ht=instagram.fblr6-1.fna.fbcdn.net&_nc_cat=109&_nc_ohc=MlmDvRmzCz4AX_TwpG4&ccb=7-4&oh=8bbd6d2574a6de85b3606a13bd8acbb2&oe=607E13A9&_nc_sid=86f79a',\n",
       " 'https://instagram.fblr6-1.fna.fbcdn.net/v/t51.2885-15/e35/p1080x1080/161509330_883314219093057_8670781648515280686_n.jpg?tp=1&_nc_ht=instagram.fblr6-1.fna.fbcdn.net&_nc_cat=109&_nc_ohc=i9RVEuKFdQUAX9lssW3&ccb=7-4&oh=a67a86e5c6b15e2976f183fb7b9b66be&oe=607BC6CD&_nc_sid=86f79a',\n",
       " 'https://instagram.fblr6-1.fna.fbcdn.net/v/t51.2885-15/e35/161279226_441132863885382_5717541955847626570_n.jpg?tp=1&_nc_ht=instagram.fblr6-1.fna.fbcdn.net&_nc_cat=106&_nc_ohc=7xfRzfFd6cUAX9q73Js&ccb=7-4&oh=2ef3c6abec0eb9f0f99ab99226e4b2cc&oe=607EEC4E&_nc_sid=86f79a',\n",
       " 'https://instagram.fblr6-1.fna.fbcdn.net/v/t51.2885-15/e35/p1080x1080/162406622_4071342549593740_7038571039023670429_n.jpg?tp=1&_nc_ht=instagram.fblr6-1.fna.fbcdn.net&_nc_cat=104&_nc_ohc=kI8l6--0trgAX_nEQrf&ccb=7-4&oh=b4ceec98edb2eac834f741569661c340&oe=607C018A&_nc_sid=86f79a',\n",
       " 'https://instagram.fblr6-1.fna.fbcdn.net/v/t51.2885-15/e35/161421607_719104218728969_7662939360844515240_n.jpg?tp=1&_nc_ht=instagram.fblr6-1.fna.fbcdn.net&_nc_cat=105&_nc_ohc=-Mu6sbNqZjwAX9OnbBI&ccb=7-4&oh=f1d3d9612cb72892179b5ef8a2d3bfc2&oe=607D84D8&_nc_sid=86f79a']"
      ]
     },
     "execution_count": 11,
     "metadata": {},
     "output_type": "execute_result"
    }
   ],
   "source": [
    "images = []\n",
    "\n",
    "#follow each image link and extract only image at index=1\n",
    "for a in anchors:\n",
    "    driver.get(a)\n",
    "    time.sleep(5)\n",
    "    img = driver.find_elements_by_tag_name('img')\n",
    "    img = [i.get_attribute('src') for i in img]\n",
    "    images.append(img[1])\n",
    "    \n",
    "images[:5]"
   ]
  },
  {
   "cell_type": "markdown",
   "metadata": {},
   "source": [
    "## Save images to computer\n",
    "- First we'll create a new folder for our images somewhere on our computer. Then, we'll save all the images there."
   ]
  },
  {
   "cell_type": "code",
   "execution_count": 12,
   "metadata": {},
   "outputs": [
    {
     "data": {
      "text/plain": [
       "'D:\\\\Study\\\\Projects\\\\Instagram\\\\photography'"
      ]
     },
     "execution_count": 12,
     "metadata": {},
     "output_type": "execute_result"
    }
   ],
   "source": [
    "import os\n",
    "import wget\n",
    "\n",
    "path = os.getcwd()\n",
    "path = os.path.join(path, keyword[1:])\n",
    "\n",
    "#create the directory\n",
    "os.mkdir(path)\n",
    "\n",
    "path"
   ]
  },
  {
   "cell_type": "code",
   "execution_count": 13,
   "metadata": {},
   "outputs": [
    {
     "name": "stdout",
     "output_type": "stream",
     "text": [
      "100% [............................................................................] 209337 / 209337"
     ]
    }
   ],
   "source": [
    "\n",
    "#download images\n",
    "counter = 0\n",
    "for image in images:\n",
    "    save_as = os.path.join(path, keyword[1:] + str(counter)  + '.jpg')\n",
    "    wget.download(image, save_as)\n",
    "    counter += 1"
   ]
  },
  {
   "cell_type": "markdown",
   "metadata": {},
   "source": [
    "# Bang!! Check the directory and we will find the downloaded image"
   ]
  },
  {
   "cell_type": "markdown",
   "metadata": {},
   "source": [
    "## Click on the serach box to search for profile using profilename automatically"
   ]
  },
  {
   "cell_type": "code",
   "execution_count": 15,
   "metadata": {},
   "outputs": [],
   "source": [
    "#target the search input field\n",
    "searchbox = WebDriverWait(driver, 10).until(EC.element_to_be_clickable((By.XPATH, \"//input[@placeholder='Search']\")))\n",
    "searchbox.clear()\n",
    "\n",
    "#search for the hashtag \"photography\"\n",
    "profilename= \"sketch_listening__\"\n",
    "searchbox.send_keys(profilename)"
   ]
  },
  {
   "cell_type": "code",
   "execution_count": 18,
   "metadata": {},
   "outputs": [],
   "source": [
    "# Target on the fisrt pop on i.e. on sketch_listening__ & click it\n",
    "time.sleep(5) # Wait for 5 seconds\n",
    "searchbox.send_keys(Keys.ENTER)\n",
    "searchbox.send_keys(Keys.ENTER)\n",
    "\n",
    "# Note - Check may you need to right the above command two times or one time"
   ]
  },
  {
   "cell_type": "markdown",
   "metadata": {},
   "source": [
    " # Conclusion - From the above set up codes we can automatically logged into instagram account and download posts against hashtag and we can search anyone's profile using username"
   ]
  }
 ],
 "metadata": {
  "kernelspec": {
   "display_name": "Python 3",
   "language": "python",
   "name": "python3"
  },
  "language_info": {
   "codemirror_mode": {
    "name": "ipython",
    "version": 3
   },
   "file_extension": ".py",
   "mimetype": "text/x-python",
   "name": "python",
   "nbconvert_exporter": "python",
   "pygments_lexer": "ipython3",
   "version": "3.8.5"
  }
 },
 "nbformat": 4,
 "nbformat_minor": 4
}
